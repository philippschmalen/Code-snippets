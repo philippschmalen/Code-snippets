{
 "cells": [
  {
   "cell_type": "markdown",
   "metadata": {},
   "source": [
    "# Handle Missing Values: Best Practices\n",
    "A code block to deal with missings and inspect dataframes\n",
    "\n",
    "**Helper functions**\n",
    "1. df.info()\n",
    "    * lists feature types and shape\n",
    "2. list_missings()\n",
    "    * lists share of missing entries per feature\n",
    "3. handle_missings()\n",
    "    * replaces np.nan for object-type and numeric features"
   ]
  },
  {
   "cell_type": "code",
   "execution_count": 2,
   "metadata": {},
   "outputs": [],
   "source": [
    "# load data\n",
    "import io #parse from url\n",
    "import requests #load from url\n",
    "\n",
    "# handle data\n",
    "import pandas as pd\n",
    "import numpy as np\n",
    "import itertools # unordered pairwise combinations of list elements\n",
    "\n",
    "# to display all the columns of the dataframe in the notebook\n",
    "pd.pandas.set_option('display.max_columns', None)"
   ]
  },
  {
   "cell_type": "markdown",
   "metadata": {},
   "source": [
    "## Load data\n",
    "Either from URL or local directory"
   ]
  },
  {
   "cell_type": "code",
   "execution_count": 59,
   "metadata": {},
   "outputs": [
    {
     "name": "stdout",
     "output_type": "stream",
     "text": [
      "Loaded from URL\n"
     ]
    }
   ],
   "source": [
    "#load data from URL or revert to local copy\n",
    "try:\n",
    "    url = 'https://dataverse.harvard.edu/api/access/datafile/3352340?gbrecs=false'\n",
    "    s = requests.get(url).content\n",
    "    df_raw = pd.read_csv(io.StringIO(s.decode('utf-8')), sep='\\t')\n",
    "    print(\"Loaded from URL\")\n",
    "except:\n",
    "    path = 'C://Users//Philipp//GDrive//Projekter//Causal Forest Tutorial//data//grit//'\n",
    "    df_raw = pd.read_csv(path+'Sample2_Data.tab', sep='\\t')\n",
    "    print(\"Loaded from local directory\")\n",
    "    \n",
    "data = df_raw.copy()"
   ]
  },
  {
   "cell_type": "code",
   "execution_count": 118,
   "metadata": {},
   "outputs": [],
   "source": [
    "#select features\n",
    "X_features = ['grit', 'male', 'task_ability', 'raven', 'grit_survey1', \n",
    " 'belief_survey1', 'mathscore1', 'verbalscore1', 'risk', 'inconsistent']\n",
    "\n",
    "X_raw = data[X_features]"
   ]
  },
  {
   "cell_type": "markdown",
   "metadata": {},
   "source": [
    "## General info"
   ]
  },
  {
   "cell_type": "code",
   "execution_count": 12,
   "metadata": {},
   "outputs": [
    {
     "name": "stdout",
     "output_type": "stream",
     "text": [
      "General info about dataframe\n",
      "----------------------------------------\n",
      "<class 'pandas.core.frame.DataFrame'>\n",
      "RangeIndex: 1499 entries, 0 to 1498\n",
      "Columns: 52 entries, sample to raven\n",
      "dtypes: float64(52)\n",
      "memory usage: 609.1 KB\n"
     ]
    }
   ],
   "source": [
    "print(\"General info about dataframe\")\n",
    "print(\"-\"*40)\n",
    "data.info(verbose=False)"
   ]
  },
  {
   "cell_type": "markdown",
   "metadata": {},
   "source": [
    "## List missings"
   ]
  },
  {
   "cell_type": "code",
   "execution_count": 119,
   "metadata": {},
   "outputs": [
    {
     "name": "stdout",
     "output_type": "stream",
     "text": [
      "Top 3 (of 52) Variables containing missings\n",
      "Average 12.72% missings\n",
      "----------------------------------------\n",
      "verbalscore3    0.480987\n",
      "mathscore3      0.478986\n",
      "age             0.247498\n",
      "dtype: float64\n",
      "\n",
      "Top 5 (of 10) Variables containing missings\n",
      "Average 10.97% missings\n",
      "----------------------------------------\n",
      "risk              0.142762\n",
      "belief_survey1    0.122748\n",
      "task_ability      0.110073\n",
      "raven             0.107405\n",
      "verbalscore1      0.105404\n",
      "dtype: float64\n",
      "\n"
     ]
    }
   ],
   "source": [
    "def list_missings(data, N=20):\n",
    "    \"\"\"\n",
    "    Lists N features with the highest share of missings\n",
    "    INPUT: \n",
    "        data: dataframe\n",
    "        N: number of features listed\n",
    "    OUTPUT\n",
    "        print list of N features with the highest missing share\n",
    "    \"\"\"\n",
    "    # make a list of the variables that contain missing values\n",
    "    vars_with_na = [var for var in data.columns if data[var].isnull().sum() > 0]\n",
    "    missings = data[vars_with_na].isnull().mean().sort_values(ascending=False)#.iloc[:N]\n",
    "    missings_avg = round(missings.mean(),4)*100\n",
    "    \n",
    "    # determine percentage of missing values\n",
    "    print(f\"Top {N} (of {len(data.columns)}) Variables containing missings\")\n",
    "    print(f\"Average {missings_avg}% missings\")\n",
    "    print(\"-\"*40)\n",
    "    print(missings[:N])\n",
    "    print()\n",
    "\n",
    "list_missings(data, N=3)\n",
    "list_missings(X_raw, N=5)"
   ]
  },
  {
   "cell_type": "markdown",
   "metadata": {},
   "source": [
    "## Replace missings\n",
    "### Categorical variables\n",
    "* select columns of type == 'Object'\n",
    "* print share of missing per variable \n",
    "* replace np.nan with 'Missing' (i.e. new category)\n",
    "\n",
    "### Numeric variables\n",
    "* replace np.nan with mode\n",
    "* create dummy variable, which is 1 if np.nan present"
   ]
  },
  {
   "cell_type": "code",
   "execution_count": 122,
   "metadata": {},
   "outputs": [],
   "source": [
    "def handle_missings(data, nan_string='Missing'):\n",
    "    \"\"\"\n",
    "    Replace np.nan with either \"Missing\" for object type or mode for numeric type, including dummy indicator\n",
    "    INPUT\n",
    "        data: covariate dataframe (df)\n",
    "        nan_string: string that replaces np.nan\n",
    "    OUTPUT\n",
    "        dataframe without missings\n",
    "    \"\"\"\n",
    "    df = data.copy()\n",
    "    \n",
    "    ### HANDLE CATEGORICAL FEATURES\n",
    "    # make a list of the categorical variables that contain missing values\n",
    "    cat_with_na = [var for var in df.columns if df[var].isnull().sum() > 0 and df[var].dtypes == 'O']\n",
    "\n",
    "    # print percentage of missing values per variable\n",
    "    print(\"% of missing values per OBJECT variable\")\n",
    "    print(\"-\"*40)\n",
    "    print(df[cat_with_na].isnull().mean())\n",
    "    print()\n",
    "\n",
    "    # replace missing values with new label: \"Missing\"\n",
    "    df[cat_with_na] = df[cat_with_na].fillna(nan_string)\n",
    "\n",
    "    # check that we have no missing information in the engineered variables\n",
    "    print(\"Sanity check:\")\n",
    "    check = len(df[cat_with_na].isnull().sum())\n",
    "    if check > 0:\n",
    "        print(f\"There are stil {check} categorical variables with missings.\\n\")\n",
    "    else: \n",
    "        print(f\"Missings replaced with '{nan_string}' among categorical variables.\\n\")\n",
    "        \n",
    "    ### HANDLE NUMERIC FEATURES\n",
    "    # make a list of the categorical variables that contain missing values\n",
    "    num_with_na = [var for var in df.columns if df[var].isnull().sum() > 0 and df[var].dtypes != 'O']\n",
    "\n",
    "    # print percentage of missing values per variable\n",
    "    print(\"% of missing values per NUMERIC variable\")\n",
    "    print(\"-\"*40)\n",
    "    print(df.loc[:,num_with_na].isnull().mean())\n",
    "    print()\n",
    "\n",
    "    # replace engineer missing values as we described above\n",
    "    for var in num_with_na:\n",
    "\n",
    "        # calculate the mode using the train set\n",
    "        mode_val = df[var].mode()[0]\n",
    "\n",
    "        # add binary missing indicator (in train and test)\n",
    "        df.loc[:,var+'_na'] = np.where(df[var].isnull(), 1, 0)\n",
    "\n",
    "        # replace missing values by the mode\n",
    "        df.loc[:,var] = df.loc[:,var].fillna(mode_val)\n",
    "\n",
    "    # check that we have no missing information in the engineered variables\n",
    "    print(\"Sanity check:\")\n",
    "    check = df[num_with_na].isnull().sum().max() \n",
    "    if check > 0:\n",
    "        print(f\"There are stil {check} categorical variables with missings.\")\n",
    "    else: \n",
    "        print(f\"Missings replaced with mode among numeric variables.\")\n",
    "        \n",
    "    return df"
   ]
  },
  {
   "cell_type": "code",
   "execution_count": 123,
   "metadata": {},
   "outputs": [
    {
     "name": "stdout",
     "output_type": "stream",
     "text": [
      "% of missing values per OBJECT variable\n",
      "----------------------------------------\n",
      "Series([], dtype: float64)\n",
      "\n",
      "Sanity check:\n",
      "Missings replaced with 'Missing' among categorical variables.\n",
      "\n",
      "% of missing values per NUMERIC variable\n",
      "----------------------------------------\n",
      "task_ability      0.110073\n",
      "raven             0.107405\n",
      "grit_survey1      0.074049\n",
      "belief_survey1    0.122748\n",
      "mathscore1        0.105404\n",
      "verbalscore1      0.105404\n",
      "risk              0.142762\n",
      "dtype: float64\n",
      "\n",
      "Sanity check:\n",
      "Missings replaced with mode among numeric variables.\n"
     ]
    }
   ],
   "source": [
    "X = handle_missings(X_raw)"
   ]
  }
 ],
 "metadata": {
  "kernelspec": {
   "display_name": "Python 3",
   "language": "python",
   "name": "python3"
  },
  "language_info": {
   "codemirror_mode": {
    "name": "ipython",
    "version": 3
   },
   "file_extension": ".py",
   "mimetype": "text/x-python",
   "name": "python",
   "nbconvert_exporter": "python",
   "pygments_lexer": "ipython3",
   "version": "3.7.6"
  }
 },
 "nbformat": 4,
 "nbformat_minor": 4
}
